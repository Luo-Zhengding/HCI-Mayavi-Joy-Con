{
 "cells": [
  {
   "cell_type": "code",
   "execution_count": 1,
   "id": "11c33ca0",
   "metadata": {
    "scrolled": true
   },
   "outputs": [
    {
     "name": "stdout",
     "output_type": "stream",
     "text": [
      "pygame 2.3.0 (SDL 2.24.2, Python 3.7.16)\n",
      "Hello from the pygame community. https://www.pygame.org/contribute.html\n"
     ]
    }
   ],
   "source": [
    "# Python 3.7.16\n",
    "# pygame 2.3.0\n",
    "\n",
    "from Render import Render\n",
    "from pyjoycon import JoyCon, GyroTrackingJoyCon, get_R_id, ButtonEventJoyCon\n",
    "import pygame\n",
    "\n",
    "class MyJoyCon(\n",
    "    GyroTrackingJoyCon,\n",
    "    ButtonEventJoyCon,\n",
    "): pass\n",
    "\n",
    "joycon_id = get_R_id()\n",
    "joycon = MyJoyCon(*joycon_id)\n",
    "\n",
    "object3 = Render('object3D/Bunny.m')\n",
    "object3.visualize(joycon)"
   ]
  },
  {
   "cell_type": "code",
   "execution_count": 2,
   "id": "1590c561",
   "metadata": {},
   "outputs": [
    {
     "data": {
      "text/plain": [
       "\"\\n# Rotate\\nif event_type == 'a' and status == 1:\\n    old_orientation = mesh.actor.actor.orientation\\n    mesh.actor.actor.orientation = (old_orientation[0]+10, old_orientation[1], old_orientation[2])\\nif event_type == 'b' and status == 1:\\n    old_orientation = mesh.actor.actor.orientation\\n    mesh.actor.actor.orientation = (old_orientation[0]-10, old_orientation[1], old_orientation[2])\\n\""
      ]
     },
     "execution_count": 2,
     "metadata": {},
     "output_type": "execute_result"
    }
   ],
   "source": [
    "\"\"\"\n",
    "# Rotate\n",
    "if event_type == 'a' and status == 1:\n",
    "    old_orientation = mesh.actor.actor.orientation\n",
    "    mesh.actor.actor.orientation = (old_orientation[0]+10, old_orientation[1], old_orientation[2])\n",
    "if event_type == 'b' and status == 1:\n",
    "    old_orientation = mesh.actor.actor.orientation\n",
    "    mesh.actor.actor.orientation = (old_orientation[0]-10, old_orientation[1], old_orientation[2])\n",
    "\"\"\""
   ]
  }
 ],
 "metadata": {
  "kernelspec": {
   "display_name": "Python 3 (ipykernel)",
   "language": "python",
   "name": "python3"
  },
  "language_info": {
   "codemirror_mode": {
    "name": "ipython",
    "version": 3
   },
   "file_extension": ".py",
   "mimetype": "text/x-python",
   "name": "python",
   "nbconvert_exporter": "python",
   "pygments_lexer": "ipython3",
   "version": "3.7.16"
  }
 },
 "nbformat": 4,
 "nbformat_minor": 5
}
